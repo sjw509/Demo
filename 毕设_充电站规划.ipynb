{
  "nbformat": 4,
  "nbformat_minor": 0,
  "metadata": {
    "colab": {
      "name": "毕设_充电站规划.ipynb",
      "provenance": [],
      "authorship_tag": "ABX9TyNon1Q29B3emOS7N4HG+hZL",
      "include_colab_link": true
    },
    "kernelspec": {
      "display_name": "Python 3",
      "name": "python3"
    }
  },
  "cells": [
    {
      "cell_type": "markdown",
      "metadata": {
        "id": "view-in-github",
        "colab_type": "text"
      },
      "source": [
        "<a href=\"https://colab.research.google.com/github/sjw509/Demo/blob/master/%E6%AF%95%E8%AE%BE_%E5%85%85%E7%94%B5%E7%AB%99%E8%A7%84%E5%88%92.ipynb\" target=\"_parent\"><img src=\"https://colab.research.google.com/assets/colab-badge.svg\" alt=\"Open In Colab\"/></a>"
      ]
    },
    {
      "cell_type": "code",
      "metadata": {
        "id": "m_f7X0ODaUZ3"
      },
      "source": [
        "import sys\n",
        "import random\n",
        "import math\n",
        "import matplotlib.pyplot as plt \n",
        "import numpy as np\n",
        " \n",
        "sys.setrecursionlimit(100000000)  # 手工设置递归调用深度，防止无限递归，引起 Python崩溃"
      ],
      "execution_count": 162,
      "outputs": []
    },
    {
      "cell_type": "code",
      "metadata": {
        "id": "0uh0ZXQZaM5B"
      },
      "source": [
        "#========================================================================================\n",
        "# 求Floyd 最短距离部分\n",
        "# 交通路径参数\n",
        "# Data [u, v, cost]\n",
        "# 注意Python数组索引从0开始，记录节点 0 - 44 之间的连通情况 \n",
        "datas=[\n",
        "    [0, 1, 0.93],\n",
        "    [0, 4, 0.74],\n",
        "    [0, 5, 0.51],\n",
        "    [1, 2, 0.93],\n",
        "    [1, 6, 0.42],\n",
        "    [2, 3, 0.93],\n",
        "    [2, 7, 0.42],\n",
        "    [3, 8, 0.42],\n",
        "    [4, 9, 0.89],\n",
        "    [4, 15, 2.54],\n",
        "    [5, 6, 0.64],\n",
        "    [5, 9, 1.03],\n",
        "    [5, 10, 1.28],\n",
        "    [6, 7, 0.93],\n",
        "    [6, 12, 0.84],\n",
        "    [7, 8, 0.93],\n",
        "    [7, 13, 0.84],\n",
        "    [8, 14, 0.84],\n",
        "    [9, 10, 0.74],\n",
        "    [9, 16, 0.89],\n",
        "    [10, 11, 0.64],\n",
        "    [10, 17, 0.40],\n",
        "    [11, 12, 0.44],\n",
        "    [11, 18, 0.40],\n",
        "    [12, 13, 0.93],\n",
        "    [13, 14, 0.93],\n",
        "    [13, 19, 0.84],\n",
        "    [14, 20, 0.84],\n",
        "    [15, 16, 1.90],\n",
        "    [15, 21, 0.34],\n",
        "    [16, 17, 0.90],\n",
        "    [16, 22, 1.51],\n",
        "    [16, 23, 0.89],\n",
        "    [17, 18, 0.64],\n",
        "    [17, 23, 1.03],\n",
        "    [18, 19, 0.93],\n",
        "    [18, 24, 0.84],\n",
        "    [19, 20, 0.93],\n",
        "    [19, 25, 0.84],\n",
        "    [20, 26, 0.84],\n",
        "    [21, 22, 1.13],\n",
        "    [22, 28, 1.29],\n",
        "    [22, 29, 1.25],\n",
        "    [23, 24, 1.24],\n",
        "    [23, 29, 1.04],\n",
        "    [23, 30, 1.03],\n",
        "    [24, 25, 0.93],\n",
        "    [24, 30, 1.06],\n",
        "    [24, 31, 0.84],\n",
        "    [25, 26, 0.93],\n",
        "    [25, 32, 0.84],\n",
        "    [26, 33, 0.84],\n",
        "    [27, 28, 1.25],\n",
        "    [28, 34, 1.28],\n",
        "    [29, 34, 1.28],\n",
        "    [29, 35, 1.08],\n",
        "    [30, 31, 0.64],\n",
        "    [30, 35, 1.07],\n",
        "    [31, 32, 0.93],\n",
        "    [31, 37, 0.88],\n",
        "    [32, 33, 0.93],\n",
        "    [32, 38, 0.88],\n",
        "    [33, 39, 0.88],\n",
        "    [34, 40, 1.25],\n",
        "    [35, 36, 0.60],\n",
        "    [35, 40, 1.25],\n",
        "    [35, 40, 1.04],\n",
        "    [36, 37, 0.64],\n",
        "    [36, 41, 1.05],\n",
        "    [37, 38, 0.93],\n",
        "    [37, 42, 0.84],\n",
        "    [38, 39, 0.93],\n",
        "    [38, 43, 0.84],\n",
        "    [39, 44, 0.84],\n",
        "    [40, 41, 0.93],\n",
        "    [41, 42, 0.93],\n",
        "    [42, 43, 0.93],\n",
        "    [43, 44, 1.07],\n",
        "    [44, 43, 1.07],\n",
        "]\n",
        " \n",
        "# 交通节点数\n",
        "n = 45\n",
        "\n",
        "# 定义无穷大\n",
        "inf = 9999999999\n",
        " \n",
        "# 构图\n",
        "graph = [[(lambda x: 0 if x[0] == x[1] else inf)([i, j]) for j in range(n)] for i in range(n)]\n",
        "parents = [[i] * n for i in range(n)]  ## 关键地方，i-->j 的父结点初始化都为 i\n",
        "## 用一个二维数组 parents 记录每个结点的父结点。在找最短路的时候，更新父结点。\n",
        "for u, v, c in datas:\n",
        "    graph[u][v] = c  # 若是有向图，边权只赋给graph[u][v]\n",
        "    graph[v][u] = c  # 若是无向图，要加上这条。\n",
        " \n",
        "# 弗洛伊德算法\n",
        "def floyd():\n",
        "    n = len(graph)\n",
        "    for k in range(n):\n",
        "        for i in range(n):\n",
        "            for j in range(n):\n",
        "                if graph[i][k] + graph[k][j] < graph[i][j]:\n",
        "                    graph[i][j] = graph[i][k] + graph[k][j]\n",
        "                    parents[i][j] = parents[k][j]  # 更新父结点\n",
        " \n",
        "# 打印两点间的Floyd距离\n",
        "def Cost():\n",
        "  print(\"Costs:\")  # 打印最短距离\n",
        "  for row in graph:\n",
        "    for e in row:\n",
        "        print(\"inf\" if e == inf else \"%.2f\" % e, end=\"\\t\")\n",
        "    print()\n",
        " \n",
        "floyd()\n",
        "# Cost()\n",
        " \n",
        "# print(graph[0][34],'\\n') \n",
        "# 计算出任意两点之间的最短路径，保存在 graph[i][j] 表示 i 到 j 的最短距离\n",
        "#========================================================================================"
      ],
      "execution_count": 163,
      "outputs": []
    },
    {
      "cell_type": "code",
      "metadata": {
        "colab": {
          "base_uri": "https://localhost:8080/"
        },
        "id": "R5-nz4OulrJZ",
        "outputId": "e2c5399d-6182-47cc-bf8c-3d4b1e88e1aa"
      },
      "source": [
        "# 45个节点的 x 坐标\n",
        "xx = [\n",
        "    3.71,\n",
        "    4.64,\n",
        "    5.57,\n",
        "    6.5,\n",
        "    3.1,\n",
        "    4,\n",
        "    4.64,\n",
        "    5.57,\n",
        "    6.5,\n",
        "    3.4,\n",
        "    4,\n",
        "    4.64,\n",
        "    4.64,\n",
        "    5.57,\n",
        "    6.5,\n",
        "    1.2,\n",
        "    3.1,\n",
        "    4,\n",
        "    4.64,\n",
        "    5.57,\n",
        "    6.5,\n",
        "    0.92,\n",
        "    1.85,\n",
        "    3.4,\n",
        "    4.64,\n",
        "    5.57,\n",
        "    6.5,\n",
        "    0,\n",
        "    0.92,\n",
        "    2.78,\n",
        "    4,\n",
        "    4.64,\n",
        "    5.57,\n",
        "    6.5,\n",
        "    1.85,\n",
        "    3.4,\n",
        "    4,\n",
        "    4.64,\n",
        "    5.57,\n",
        "    6.5,\n",
        "    2.78,\n",
        "    3.71,\n",
        "    4.64,\n",
        "    5.57,\n",
        "    6.5,\n",
        "]\n",
        " \n",
        "# 45个节点的 y 坐标\n",
        "yy = [\n",
        "    6.5,\n",
        "    6.5,\n",
        "    6.5,\n",
        "    6.5,\n",
        "    6.08,\n",
        "    6.08,\n",
        "    6.08,\n",
        "    6.08,\n",
        "    6.08,\n",
        "    5.24,\n",
        "    4.8,\n",
        "    4.8,\n",
        "    5.24,\n",
        "    5.24,\n",
        "    5.24,\n",
        "    4.4,\n",
        "    4.4,\n",
        "    4.4,\n",
        "    4.4,\n",
        "    4.4,\n",
        "    4.4,\n",
        "    4.2,\n",
        "    3.56,\n",
        "    3.56,\n",
        "    3.56,\n",
        "    3.56,\n",
        "    3.56,\n",
        "    3.56,\n",
        "    2.72,\n",
        "    2.72,\n",
        "    2.72,\n",
        "    2.72,\n",
        "    2.72,\n",
        "    2.72,\n",
        "    1.84,\n",
        "    1.84,\n",
        "    1.84,\n",
        "    1.84,\n",
        "    1.84,\n",
        "    1.84,\n",
        "    1,\n",
        "    1,\n",
        "    1,\n",
        "    1,\n",
        "    1,\n",
        "]\n",
        "# 生成[x,y]坐标点形成的数组，供后面查找节点位置使用\n",
        "# 可以使用循环赋值，也可以使用 list\\zip函数，如\n",
        "#node=list(zip(xx,yy))  # 这里的 node=[(x1,y1),(x2,y2)...]\n",
        "node=[0]*45\n",
        "for i in range(45):\n",
        "  node[i]=[xx[i],yy[i]]# 这里的 node=[[x1,y1],[x2,y2]...]\n",
        "#print(node[1][1])\n",
        " \n",
        "# 随机生成若干点，初始化充电站地址\n",
        "nx=[]\n",
        "ny=[]\n",
        "\n",
        "# 充电站点数\n",
        "N=7\n",
        "\n",
        "for i in range(N):\n",
        "  nx.append(random.uniform(0,7))\n",
        "  ny.append(random.uniform(0,7))\n",
        "  nx =[round(a,2) for a in nx] #对随机生成的浮点数取2位小数\n",
        "  ny =[round(b,2) for b in ny]\n",
        "print('充电站坐标：',[nx,ny],'\\n')\n",
        " \n",
        "cells=[0]*N # 7个充电站的坐标\n",
        "for j in range(N):\n",
        "  cells[j]=[nx[j],ny[j]]\n",
        "# print(cells,'\\n') \n",
        "# ----------------------------------------------------------------------------\n",
        "# 计算充电站最近的交通节点\n",
        "dmin=[0]*N\n",
        "a=[0]*N\n",
        "for j in range(N):\n",
        "  dmin[j] = math.hypot(nx[j]-3.71, ny[j]-6.5)  \n",
        "  for i in range(45): # 递归计算 45个点中离充电站r最近的点\n",
        "    d = math.hypot(xx[i] - nx[j], yy[i] - ny[j])\n",
        "    if d < dmin[j]:    # 考虑 最短的两点欧氏距离 \n",
        "    #--------{......}------ # 后续筛选校核 \n",
        "    #--------{......}------   考虑 配电网潮流约束 !!!\n",
        "      dmin[j] = d\n",
        "      xmin = xx[i]  # 定位最近的交通节点\n",
        "      ymin = yy[i]  # 交通节点名称像Python数组索引一样由0开始 ！！\n",
        "  a[j]= node.index([xmin,ymin])\n",
        "  dmin[j] = round(dmin[j],2) # 取两位小数\n",
        "\n",
        "#------------------------------------------------------------------------------\n",
        "\n",
        "print('离充电站最近的交通节点（0 - 44）为: ',a,'\\n') \n",
        "print('离充电站最近的交通节点的坐标：',[xmin,ymin],'\\n')\n",
        "# 输出交通节点离充电站的最短距离\n",
        "print('离充电站最近的交通节点的欧氏距离 dmin = ',dmin,'\\n')\n",
        " \n",
        "# 任一交通点到离充电站的\"最短路径距离\"\n",
        "DMIN=[0]*N\n",
        "for j in range(N):\n",
        "  Dmin=[0]*45\n",
        "  DMIN[j]=Dmin\n",
        "  for i in range(45):\n",
        "    Dmin[i] = graph[i][a[j]]+dmin[j] \n",
        "    Dmin[i] = round (Dmin[i],2)#取两位小数\n",
        "print('任一节点到充电站的最短路径距离Dmin = ',DMIN,'\\n')# 7个充电站\n",
        "\n",
        "# ==========================================================================="
      ],
      "execution_count": 164,
      "outputs": [
        {
          "output_type": "stream",
          "text": [
            "充电站坐标： [[2.83, 3.86, 1.38, 4.83, 5.78, 5.18, 1.11], [4.98, 2.88, 1.94, 6.19, 1.39, 5.6, 0.08]] \n",
            "\n",
            "离充电站最近的交通节点（0 - 44）为:  [9, 30, 34, 6, 43, 13, 40] \n",
            "\n",
            "离充电站最近的交通节点的坐标： [2.78, 1] \n",
            "\n",
            "离充电站最近的交通节点的欧氏距离 dmin =  [0.63, 0.21, 0.48, 0.22, 0.44, 0.53, 1.91] \n",
            "\n",
            "任一节点到充电站的最短路径距离Dmin =  [[2.17, 2.72, 3.65, 4.58, 1.52, 1.66, 2.3, 3.23, 4.16, 0.63, 1.37, 2.01, 2.45, 3.38, 4.31, 3.42, 1.52, 1.77, 2.41, 3.34, 4.27, 3.76, 3.03, 2.41, 3.25, 4.18, 5.11, 5.57, 4.32, 3.45, 3.44, 4.08, 5.01, 5.94, 4.73, 4.51, 5.11, 4.96, 5.89, 6.82, 5.55, 6.16, 5.8, 6.73, 7.66], [4.46, 4.21, 5.14, 6.07, 3.91, 3.95, 3.79, 4.72, 5.65, 3.02, 2.67, 2.51, 2.95, 3.88, 4.81, 4.03, 2.13, 2.27, 2.11, 3.04, 3.97, 4.37, 3.53, 1.24, 1.27, 2.2, 3.13, 6.07, 4.82, 2.28, 0.21, 0.85, 1.78, 2.71, 3.56, 1.28, 1.88, 1.73, 2.66, 3.59, 2.32, 2.93, 2.57, 3.5, 4.43], [6.02, 6.57, 7.5, 8.43, 5.47, 5.51, 6.15, 7.08, 8.01, 4.58, 4.23, 4.87, 5.31, 6.24, 7.17, 4.48, 3.69, 3.83, 4.47, 5.4, 6.33, 4.14, 3.01, 2.8, 4.04, 4.97, 5.9, 3.01, 1.76, 1.76, 3.83, 4.47, 5.4, 6.33, 0.48, 2.77, 3.37, 4.01, 4.94, 5.87, 1.73, 2.66, 3.59, 4.52, 5.59], [1.37, 0.64, 1.57, 2.5, 2.11, 0.86, 0.22, 1.15, 2.08, 1.89, 2.14, 1.5, 1.06, 1.99, 2.92, 4.65, 2.78, 2.54, 1.9, 2.83, 3.76, 4.99, 4.29, 3.57, 2.74, 3.67, 4.6, 6.83, 5.58, 4.61, 3.8, 3.58, 4.51, 5.44, 5.89, 4.87, 5.1, 4.46, 5.39, 6.32, 5.91, 6.15, 5.3, 6.23, 7.16], [7.6, 6.87, 5.94, 6.87, 7.43, 7.09, 6.45, 5.52, 6.45, 6.54, 5.81, 5.17, 5.61, 4.68, 5.61, 7.25, 5.65, 5.41, 4.77, 3.84, 4.77, 6.91, 5.78, 4.76, 3.93, 3.0, 3.93, 7.01, 5.76, 4.53, 3.73, 3.09, 2.16, 3.09, 4.48, 3.45, 2.85, 2.21, 1.28, 2.21, 3.23, 2.3, 1.37, 0.44, 1.51], [3.45, 2.72, 1.79, 2.72, 4.17, 2.94, 2.3, 1.37, 2.3, 3.28, 2.54, 1.9, 1.46, 0.53, 1.46, 5.74, 3.84, 2.94, 2.3, 1.37, 2.3, 6.08, 5.35, 3.97, 3.14, 2.21, 3.14, 7.89, 6.64, 5.01, 4.2, 3.98, 3.05, 3.98, 6.29, 5.27, 5.5, 4.86, 3.93, 4.86, 6.31, 6.55, 5.7, 4.77, 5.7], [8.27, 8.02, 8.95, 9.88, 7.72, 7.76, 7.6, 8.53, 9.46, 6.83, 6.48, 6.32, 6.76, 7.69, 8.62, 6.75, 5.94, 6.08, 5.92, 6.85, 7.78, 6.41, 5.28, 5.05, 5.08, 6.01, 6.94, 5.69, 4.44, 4.03, 4.02, 4.66, 5.59, 6.52, 3.16, 2.95, 3.55, 4.19, 5.12, 6.05, 1.91, 2.84, 3.77, 4.7, 5.77]] \n",
            "\n"
          ],
          "name": "stdout"
        }
      ]
    },
    {
      "cell_type": "code",
      "metadata": {
        "id": "DVmb--3zVYiq",
        "colab": {
          "base_uri": "https://localhost:8080/",
          "height": 265
        },
        "outputId": "6522277e-a14e-493f-9b5a-10ac2adffada"
      },
      "source": [
        "# ------------------------------------------------------------------------\n",
        "# 画图 (目前的充电站点是随机生成)\n",
        "plt.plot(xx,yy,'r.') # 交通节点\n",
        "plt.plot(nx,ny,'go') # 充电站\n",
        "for j in range(7):\n",
        "  plt.plot(xx[a[j]],yy[a[j]],'r+')\n",
        "  plt.plot([nx[j],xx[a[j]]],[ny[j],yy[a[j]]],'k--') # 连接充电站和最近的交通节点\n",
        " \n",
        "plt.xlim(0,7.5) #设置的x、y轴上下限值。\n",
        "plt.ylim(0,7.5)\n",
        "plt.grid(True)"
      ],
      "execution_count": 165,
      "outputs": [
        {
          "output_type": "display_data",
          "data": {
            "image/png": "[encoded data removed]",
            "text/plain": [
              "<Figure size 432x288 with 1 Axes>"
            ]
          },
          "metadata": {
            "tags": [],
            "needs_background": "light"
          }
        }
      ]
    },
    {
      "cell_type": "code",
      "metadata": {
        "id": "p9tr6XvSv2DZ",
        "colab": {
          "base_uri": "https://localhost:8080/",
          "height": 427
        },
        "outputId": "c19da5fc-be61-42c6-9e75-85449a01e485"
      },
      "source": [
        "for j in range(N):\n",
        "  print(node[a[j]])\n",
        "print(cells[0])\n",
        "plt.plot(nx,ny,'ro')\n",
        "plt.grid(True)\n",
        "plt.xlim(0,7.5)\n",
        "plt.ylim(0,7.5)"
      ],
      "execution_count": 166,
      "outputs": [
        {
          "output_type": "stream",
          "text": [
            "[3.4, 5.24]\n",
            "[4, 2.72]\n",
            "[1.85, 1.84]\n",
            "[4.64, 6.08]\n",
            "[5.57, 1]\n",
            "[5.57, 5.24]\n",
            "[2.78, 1]\n",
            "[2.83, 4.98]\n"
          ],
          "name": "stdout"
        },
        {
          "output_type": "execute_result",
          "data": {
            "text/plain": [
              "(0.0, 7.5)"
            ]
          },
          "metadata": {
            "tags": []
          },
          "execution_count": 166
        },
        {
          "output_type": "display_data",
          "data": {
            "image/png": "[encoded data removed]",
            "text/plain": [
              "<Figure size 432x288 with 1 Axes>"
            ]
          },
          "metadata": {
            "tags": [],
            "needs_background": "light"
          }
        }
      ]
    },
    {
      "cell_type": "code",
      "metadata": {
        "colab": {
          "base_uri": "https://localhost:8080/"
        },
        "id": "fC68nveQ2fKp",
        "outputId": "5951dd85-d8a1-4bdb-c608-3b7b2c4e2ab3"
      },
      "source": [
        "print(DMIN[1][1])"
      ],
      "execution_count": 167,
      "outputs": [
        {
          "output_type": "stream",
          "text": [
            "4.21\n"
          ],
          "name": "stdout"
        }
      ]
    }
  ]
}