{
  "nbformat": 4,
  "nbformat_minor": 0,
  "metadata": {
    "colab": {
      "name": "毕设_充电站规划.ipynb",
      "provenance": [],
      "collapsed_sections": [],
      "authorship_tag": "ABX9TyNz3Rf1XIa0FyTwVy3Rtnq/",
      "include_colab_link": true
    },
    "kernelspec": {
      "display_name": "Python 3",
      "name": "python3"
    }
  },
  "cells": [
    {
      "cell_type": "markdown",
      "metadata": {
        "id": "view-in-github",
        "colab_type": "text"
      },
      "source": [
        "<a href=\"https://colab.research.google.com/github/sjw509/Demo/blob/master/%E6%AF%95%E8%AE%BE_%E5%85%85%E7%94%B5%E7%AB%99%E8%A7%84%E5%88%92.ipynb\" target=\"_parent\"><img src=\"https://colab.research.google.com/assets/colab-badge.svg\" alt=\"Open In Colab\"/></a>"
      ]
    },
    {
      "cell_type": "code",
      "metadata": {
        "id": "m_f7X0ODaUZ3"
      },
      "source": [
        "# 电动汽车充电站规划\n",
        "# Author：Su Jianwen\n",
        " \n",
        "import sys\n",
        "import random\n",
        "import math\n",
        "import matplotlib.pyplot as plt \n",
        "import numpy as np\n",
        " \n",
        "sys.setrecursionlimit(100000000)  # 手工设置递归调用深度，防止无限递归，引起 Python崩溃"
      ],
      "execution_count": 21,
      "outputs": []
    },
    {
      "cell_type": "code",
      "metadata": {
        "id": "0uh0ZXQZaM5B"
      },
      "source": [
        "#===============================================================================\n",
        "# 求Floyd 最短路径 部分\n",
        "# 交通路径参数\n",
        "# Data [u, v, cost],记录节点 0 - 44 之间的连通情况\n",
        "# 注意Python数组索引从0开始 \n",
        "datas=[\n",
        "    [0, 1, 0.93],\n",
        "    [0, 4, 0.74],\n",
        "    [0, 5, 0.51],\n",
        "    [1, 2, 0.93],\n",
        "    [1, 6, 0.42],\n",
        "    [2, 3, 0.93],\n",
        "    [2, 7, 0.42],\n",
        "    [3, 8, 0.42],\n",
        "    [4, 9, 0.89],\n",
        "    [4, 15, 2.64],\n",
        "    [5, 6, 0.64],\n",
        "    [5, 9, 1.03],\n",
        "    [5, 10, 1.28],\n",
        "    [6, 7, 0.93],\n",
        "    [6, 12, 0.84],\n",
        "    [7, 8, 0.93],\n",
        "    [7, 13, 0.84],\n",
        "    [8, 14, 0.84],\n",
        "    [9, 10, 0.74],\n",
        "    [9, 16, 0.89],\n",
        "    [10, 11, 0.64],\n",
        "    [10, 17, 0.40],\n",
        "    [11, 12, 0.44],\n",
        "    [11, 18, 0.40],\n",
        "    [12, 13, 0.93],\n",
        "    [13, 14, 0.93],\n",
        "    [13, 19, 0.84],\n",
        "    [14, 20, 0.84],\n",
        "    [15, 16, 2.03],\n",
        "    [15, 21, 0.18],\n",
        "    [16, 17, 0.90],\n",
        "    [16, 22, 1.51],\n",
        "    [16, 23, 0.89],\n",
        "    [17, 18, 0.64],\n",
        "    [17, 23, 1.03],\n",
        "    [18, 19, 0.93],\n",
        "    [18, 24, 0.84],\n",
        "    [19, 20, 0.93],\n",
        "    [19, 25, 0.84],\n",
        "    [20, 26, 0.84],\n",
        "    [21, 22, 1.19],\n",
        "    [21, 27, 1.18],\n",
        "    [22, 29, 1.25],\n",
        "    [23, 24, 1.24],\n",
        "    [23, 29, 1.04],\n",
        "    [23, 30, 1.03],\n",
        "    [24, 25, 0.93],\n",
        "    [24, 30, 1.06],\n",
        "    [24, 31, 0.84],\n",
        "    [25, 26, 0.93],\n",
        "    [25, 32, 0.84],\n",
        "    [26, 33, 0.84],\n",
        "    [27, 28, 1.25],\n",
        "    [28, 34, 1.28],\n",
        "    [29, 34, 1.28],\n",
        "    [29, 35, 1.08],\n",
        "    [30, 31, 0.64],\n",
        "    [30, 35, 1.07],\n",
        "    [31, 32, 0.93],\n",
        "    [31, 37, 0.88],\n",
        "    [32, 33, 0.93],\n",
        "    [32, 38, 0.88],\n",
        "    [33, 39, 0.88],\n",
        "    [34, 40, 1.25],\n",
        "    [35, 36, 0.60],\n",
        "    [35, 40, 1.25],\n",
        "    [35, 40, 1.04],\n",
        "    [36, 37, 0.64],\n",
        "    [36, 41, 1.05],\n",
        "    [37, 38, 0.93],\n",
        "    [37, 42, 0.84],\n",
        "    [38, 39, 0.93],\n",
        "    [38, 43, 0.84],\n",
        "    [39, 44, 0.84],\n",
        "    [40, 41, 0.93],\n",
        "    [41, 42, 0.93],\n",
        "    [42, 43, 0.93],\n",
        "    [43, 44, 1.07],\n",
        "    [44, 43, 1.07],\n",
        "]\n",
        " \n",
        "# 交通节点数\n",
        "n = 45\n",
        " \n",
        "# 定义无穷大\n",
        "inf = 9999999999\n",
        " \n",
        "# 构图\n",
        "graph = [[(lambda x: 0 if x[0] == x[1] else inf)([i, j]) for j in range(n)] for i in range(n)]\n",
        "parents = [[i] * n for i in range(n)]  ## 关键地方，i-->j 的父结点初始化都为 i\n",
        "## 用一个二维数组 parents 记录每个结点的父结点。在找最短路的时候，更新父结点。\n",
        "for u, v, c in datas:\n",
        "    graph[u][v] = c  # 若是有向图，边权只赋给graph[u][v]\n",
        "    graph[v][u] = c  # 若是无向图，要加上这条。\n",
        " \n",
        "# 弗洛伊德算法\n",
        "def floyd():\n",
        "    n = len(graph)\n",
        "    for k in range(n):\n",
        "        for i in range(n):\n",
        "            for j in range(n):\n",
        "                if graph[i][k] + graph[k][j] < graph[i][j]:\n",
        "                    graph[i][j] = graph[i][k] + graph[k][j]\n",
        "                    parents[i][j] = parents[k][j]  # 更新父结点\n",
        " \n",
        "# 打印两点间的Floyd距离\n",
        "def Cost():\n",
        "  print(\"Costs:\")  # 打印最短距离\n",
        "  for row in graph:\n",
        "    for e in row:\n",
        "        print(\"inf\" if e == inf else \"%.2f\" % e, end=\"\\t\")\n",
        "    print()\n",
        " \n",
        "floyd() # 计算出任意两交通节点之间的最短路径，保存在 graph[i][j] 表示 i 到 j 的最短距离\n",
        "# Cost() # 输出最短距离\n",
        "# print(graph[0][34],'\\n') \n",
        "#==============================================================================="
      ],
      "execution_count": 22,
      "outputs": []
    },
    {
      "cell_type": "code",
      "metadata": {
        "colab": {
          "base_uri": "https://localhost:8080/",
          "height": 413
        },
        "id": "R5-nz4OulrJZ",
        "outputId": "ec23c6d9-cb58-4935-a734-9afbd036bd4e"
      },
      "source": [
        "# 45个节点的 x 坐标 \n",
        "# 节点15、21的坐标稍作调整！！\n",
        "xx = [\n",
        "    3.71,\n",
        "    4.64,\n",
        "    5.57,\n",
        "    6.5,\n",
        "    3.1,\n",
        "    4,\n",
        "    4.64,\n",
        "    5.57,\n",
        "    6.5,\n",
        "    3.4,\n",
        "    4,\n",
        "    4.64,\n",
        "    4.64,\n",
        "    5.57,\n",
        "    6.5,\n",
        "    1.07,\n",
        "    3.1,\n",
        "    4,\n",
        "    4.64,\n",
        "    5.57,\n",
        "    6.5,\n",
        "    0.92,\n",
        "    1.85,\n",
        "    3.4,\n",
        "    4.64,\n",
        "    5.57,\n",
        "    6.5,\n",
        "    0,\n",
        "    0.92,\n",
        "    2.78,\n",
        "    4,\n",
        "    4.64,\n",
        "    5.57,\n",
        "    6.5,\n",
        "    1.85,\n",
        "    3.4,\n",
        "    4,\n",
        "    4.64,\n",
        "    5.57,\n",
        "    6.5,\n",
        "    2.78,\n",
        "    3.71,\n",
        "    4.64,\n",
        "    5.57,\n",
        "    6.5,\n",
        "]\n",
        " \n",
        "# 45个节点的 y 坐标\n",
        "yy = [\n",
        "    6.5,\n",
        "    6.5,\n",
        "    6.5,\n",
        "    6.5,\n",
        "    6.08,\n",
        "    6.08,\n",
        "    6.08,\n",
        "    6.08,\n",
        "    6.08,\n",
        "    5.24,\n",
        "    4.8,\n",
        "    4.8,\n",
        "    5.24,\n",
        "    5.24,\n",
        "    5.24,\n",
        "    4.4,\n",
        "    4.4,\n",
        "    4.4,\n",
        "    4.4,\n",
        "    4.4,\n",
        "    4.4,\n",
        "    4.3,\n",
        "    3.56,\n",
        "    3.56,\n",
        "    3.56,\n",
        "    3.56,\n",
        "    3.56,\n",
        "    3.56,\n",
        "    2.72,\n",
        "    2.72,\n",
        "    2.72,\n",
        "    2.72,\n",
        "    2.72,\n",
        "    2.72,\n",
        "    1.84,\n",
        "    1.84,\n",
        "    1.84,\n",
        "    1.84,\n",
        "    1.84,\n",
        "    1.84,\n",
        "    1,\n",
        "    1,\n",
        "    1,\n",
        "    1,\n",
        "    1,\n",
        "]\n",
        "\n",
        "# 生成[x,y]坐标点形成的数组，\n",
        "# 供后面查找节点位置使用！！\n",
        " # 可以使用循环赋值，也可以使用 list\\zip函数...，如\n",
        "#node=list(zip(xx,yy))  # 这里的 node=[(x1,y1),(x2,y2)...]\n",
        "\n",
        "node=[0]*45\n",
        "for i in range(45):\n",
        "  node[i]=[xx[i],yy[i]]# 这里的 node=[[x1,y1],[x2,y2]...]\n",
        " \n",
        "# 随机生成若干点，初始化充电站地址\n",
        "nx=[]\n",
        "ny=[]\n",
        " \n",
        "# 充电站点数\n",
        "N=4\n",
        " \n",
        "for i in range(N):\n",
        "  nx.append(random.uniform(0,7))\n",
        "  ny.append(random.uniform(0,7))\n",
        "  nx =[round(a,2) for a in nx] #对随机生成的浮点数取2位小数\n",
        "  ny =[round(b,2) for b in ny]\n",
        "print('充电站坐标：',[nx,ny],'\\n')\n",
        " \n",
        "cells=[0]*N # 7个充电站的坐标\n",
        " \n",
        "for j in range(N):\n",
        "  cells[j]=[nx[j],ny[j]]\n",
        "# print(cells,'\\n') \n",
        "# -----------------------------------------------------------------------------\n",
        "# 计算充电站最近的交通节点\n",
        "dmin=[0]*N # 充电站最近的交通节点的欧氏距离\n",
        "nd=[0]*N  # 充电站最近交通节点下标\n",
        "\n",
        "for j in range(N):\n",
        "  dmin[j] = math.sqrt((nx[j]-3.71)**2 + (ny[j]-6.5)**2)\n",
        "  for i in range(45): # 递归计算 45个点中离充电站r最近的点\n",
        "    d = math.sqrt((xx[i]-nx[j])**2 + (yy[i]-ny[j])**2)\n",
        "    if d < dmin[j]:    # 考虑 最短的两点欧氏距离 \n",
        "    #--------{......}------ # 后续筛选校核 \n",
        "    #--------{......}------   考虑 配电网潮流约束 !!!\n",
        "      dmin[j] = d\n",
        "      xmin = xx[i]  # 定位最近的交通节点\n",
        "      ymin = yy[i]  # 交通节点名称像Python数组索引一样由0开始 ！！\n",
        "      nd[j]= node.index([xmin,ymin]) # 查找相应下标 \n",
        "  #dmin[j] = round(dmin[j],2) # 取两位小数\n",
        " \n",
        "#-------------------------------------------------------------------------------\n",
        " \n",
        "print('离充电站最近的交通节点（0 - 44）为: ',nd,'\\n') \n",
        "for j in range(N):\n",
        "  print('离充电站',j,'最近的交通节点',nd[j],'坐标:',node[nd[j]])\n",
        "# 输出交通节点离充电站的最短距离\n",
        "#print('离充电站最近的交通节点的欧氏距离 dmin = ',dmin,'\\n')\n",
        " \n",
        "# 任一交通点到离充电站的\"最短路径距离\"\n",
        "DMIN=[0]*N\n",
        "for j in range(N):\n",
        "  Dmin=[0]*45\n",
        "  DMIN[j] = Dmin\n",
        "  for i in range(45):\n",
        "    Dmin[i] = graph[i][nd[j]]+dmin[j] \n",
        "    #Dmin[i] = round (Dmin[i],3)#取3位小数\n",
        "#print('任一节点到充电站的最短路径距离 Dmin = ',DMIN,'\\n')# 7个充电站\n",
        " \n",
        "#-------------------------------------------------------------------------------\n",
        "# 画图 (目前的充电站点是随机生成)\n",
        "def plotconnect():#交通节点之间的路径\n",
        "  plt.plot([xx[0],xx[3]],[yy[0],yy[3]],'k-',linewidth=1)\n",
        "  plt.plot([xx[0],xx[27]],[yy[0],yy[27]],'k-',linewidth=1)\n",
        "  plt.plot([xx[0],xx[5]],[yy[0],yy[5]],'k-',linewidth=1)\n",
        "  plt.plot([xx[1],xx[42]],[yy[1],yy[42]],'k-',linewidth=1)\n",
        "  plt.plot([xx[2],xx[43]],[yy[2],yy[43]],'k-',linewidth=1)\n",
        "  plt.plot([xx[3],xx[44]],[yy[3],yy[44]],'k-',linewidth=1)\n",
        "  plt.plot([xx[4],xx[9]],[yy[4],yy[9]],'k-',linewidth=1)\n",
        "  plt.plot([xx[5],xx[9]],[yy[5],yy[9]],'k-',linewidth=1) \n",
        "  plt.plot([xx[5],xx[8]],[yy[5],yy[8]],'k-',linewidth=1)\n",
        "  plt.plot([xx[5],xx[17]],[yy[5],yy[17]],'k-',linewidth=1)\n",
        "  plt.plot([xx[9],xx[16]],[yy[9],yy[16]],'k-',linewidth=1)\n",
        "  plt.plot([xx[9],xx[10]],[yy[9],yy[10]],'k-',linewidth=1)\n",
        "  plt.plot([xx[10],xx[11]],[yy[10],yy[11]],'k-',linewidth=1)\n",
        "  plt.plot([xx[12],xx[14]],[yy[12],yy[14]],'k-',linewidth=1)\n",
        "  plt.plot([xx[15],xx[20]],[yy[15],yy[20]],'k-',linewidth=1)\n",
        "  plt.plot([xx[16],xx[22]],[yy[16],yy[22]],'k-',linewidth=1)\n",
        "  plt.plot([xx[16],xx[23]],[yy[16],yy[23]],'k-',linewidth=1)\n",
        "  plt.plot([xx[17],xx[23]],[yy[17],yy[23]],'k-',linewidth=1)\n",
        "  plt.plot([xx[21],xx[22]],[yy[21],yy[22]],'k-',linewidth=1)\n",
        "  plt.plot([xx[22],xx[28]],[yy[22],yy[28]],'k-',linewidth=1)\n",
        "  plt.plot([xx[22],xx[29]],[yy[22],yy[29]],'k-',linewidth=1)\n",
        "  plt.plot([xx[23],xx[26]],[yy[23],yy[26]],'k-',linewidth=1)\n",
        "  plt.plot([xx[23],xx[29]],[yy[23],yy[29]],'k-',linewidth=1)\n",
        "  plt.plot([xx[23],xx[30]],[yy[23],yy[30]],'k-',linewidth=1)\n",
        "  plt.plot([xx[24],xx[30]],[yy[24],yy[30]],'k-',linewidth=1)\n",
        "  plt.plot([xx[27],xx[40]],[yy[27],yy[40]],'k-',linewidth=1)\n",
        "  plt.plot([xx[29],xx[34]],[yy[29],yy[34]],'k-',linewidth=1)\n",
        "  plt.plot([xx[29],xx[35]],[yy[29],yy[35]],'k-',linewidth=1)\n",
        "  plt.plot([xx[30],xx[33]],[yy[30],yy[33]],'k-',linewidth=1)\n",
        "  plt.plot([xx[30],xx[35]],[yy[30],yy[35]],'k-',linewidth=1)\n",
        "  plt.plot([xx[35],xx[39]],[yy[35],yy[39]],'k-',linewidth=1)\n",
        "  plt.plot([xx[35],xx[40]],[yy[35],yy[40]],'k-',linewidth=1)\n",
        "  plt.plot([xx[36],xx[41]],[yy[36],yy[41]],'k-',linewidth=1)\n",
        "  plt.plot([xx[40],xx[44]],[yy[40],yy[44]],'k-',linewidth=1)\n",
        "\n",
        "def plot_N2n():  # 连接充电站和最近的交通节点\n",
        "  for j in range(N):\n",
        "    plt.plot(xx[nd[j]],yy[nd[j]],'r+')\n",
        "    plt.plot([nx[j],xx[nd[j]]],[ny[j],yy[nd[j]]],'k--')\n",
        "\n",
        "plt.plot(xx,yy,'r.') # 交通节点\n",
        "plt.plot(nx,ny,'go') # 充电站\n",
        "\n",
        "plotconnect()\n",
        "plot_N2n()\n",
        "\n",
        "plt.xlim(0,8) #设置的x、y轴上下限值。\n",
        "plt.ylim(0,7)\n",
        "plt.grid(False)"
      ],
      "execution_count": 23,
      "outputs": [
        {
          "output_type": "stream",
          "text": [
            "充电站坐标： [[0.38, 4.3, 3.44, 2.89], [6.35, 6.41, 6.83, 6.49]] \n",
            "\n",
            "离充电站最近的交通节点（0 - 44）为:  [15, 1, 0, 4] \n",
            "\n",
            "离充电站 0 最近的交通节点 15 坐标: [1.07, 4.4]\n",
            "离充电站 1 最近的交通节点 1 坐标: [4.64, 6.5]\n",
            "离充电站 2 最近的交通节点 0 坐标: [3.71, 6.5]\n",
            "离充电站 3 最近的交通节点 4 坐标: [3.1, 6.08]\n"
          ],
          "name": "stdout"
        },
        {
          "output_type": "display_data",
          "data": {
            "image/png": "[encoded data removed]",
            "text/plain": [
              "<Figure size 432x288 with 1 Axes>"
            ]
          },
          "metadata": {
            "tags": [],
            "needs_background": "light"
          }
        }
      ]
    },
    {
      "cell_type": "code",
      "metadata": {
        "colab": {
          "base_uri": "https://localhost:8080/"
        },
        "id": "7rZSbU6S1PwG",
        "outputId": "f17ced95-6e4b-41c1-d7c8-b03739c9f7eb"
      },
      "source": [
        "def abc():\r\n",
        "  a=4\r\n",
        "  b= math.pi\r\n",
        "  c= a*b\r\n",
        "  return c,b\r\n",
        "c,b=abc()\r\n",
        "c\r\n",
        "b"
      ],
      "execution_count": 24,
      "outputs": [
        {
          "output_type": "execute_result",
          "data": {
            "text/plain": [
              "3.141592653589793"
            ]
          },
          "metadata": {
            "tags": []
          },
          "execution_count": 24
        }
      ]
    },
    {
      "cell_type": "code",
      "metadata": {
        "cellView": "code",
        "colab": {
          "base_uri": "https://localhost:8080/"
        },
        "id": "-CCuR7LGGHUo",
        "outputId": "04e0d481-2a3f-4050-f138-879681c493d7"
      },
      "source": [
        "#@title 默认标题文本\n",
        "# 安装几个优化算法库\n",
        "'''\n",
        "scikit-opt\n",
        "mealpy\n",
        "geatpy\n",
        "pyswarms\n",
        "'''\n",
        "!pip install scikit-opt\n",
        "!pip install mealpy\n",
        "!pip install geatpy\n",
        "!pip install pyswarms"
      ],
      "execution_count": 25,
      "outputs": [
        {
          "output_type": "stream",
          "text": [
            "Requirement already satisfied: scikit-opt in /usr/local/lib/python3.6/dist-packages (0.6.1)\n",
            "Requirement already satisfied: scipy in /usr/local/lib/python3.6/dist-packages (from scikit-opt) (1.4.1)\n",
            "Requirement already satisfied: numpy in /usr/local/lib/python3.6/dist-packages (from scikit-opt) (1.19.5)\n",
            "Requirement already satisfied: mealpy in /usr/local/lib/python3.6/dist-packages (1.0.4)\n",
            "Requirement already satisfied: matplotlib in /usr/local/lib/python3.6/dist-packages (from mealpy) (3.2.2)\n",
            "Requirement already satisfied: scipy in /usr/local/lib/python3.6/dist-packages (from mealpy) (1.4.1)\n",
            "Requirement already satisfied: numpy in /usr/local/lib/python3.6/dist-packages (from mealpy) (1.19.5)\n",
            "Requirement already satisfied: opfunu in /usr/local/lib/python3.6/dist-packages (from mealpy) (0.8.0)\n",
            "Requirement already satisfied: cycler>=0.10 in /usr/local/lib/python3.6/dist-packages (from matplotlib->mealpy) (0.10.0)\n",
            "Requirement already satisfied: pyparsing!=2.0.4,!=2.1.2,!=2.1.6,>=2.0.1 in /usr/local/lib/python3.6/dist-packages (from matplotlib->mealpy) (2.4.7)\n",
            "Requirement already satisfied: python-dateutil>=2.1 in /usr/local/lib/python3.6/dist-packages (from matplotlib->mealpy) (2.8.1)\n",
            "Requirement already satisfied: kiwisolver>=1.0.1 in /usr/local/lib/python3.6/dist-packages (from matplotlib->mealpy) (1.3.1)\n",
            "Requirement already satisfied: six in /usr/local/lib/python3.6/dist-packages (from cycler>=0.10->matplotlib->mealpy) (1.15.0)\n",
            "Requirement already satisfied: geatpy in /usr/local/lib/python3.6/dist-packages (2.6.0)\n",
            "Requirement already satisfied: matplotlib>=3.0.0 in /usr/local/lib/python3.6/dist-packages (from geatpy) (3.2.2)\n",
            "Requirement already satisfied: numpy>=1.17.0 in /usr/local/lib/python3.6/dist-packages (from geatpy) (1.19.5)\n",
            "Requirement already satisfied: scipy>=1.0.0 in /usr/local/lib/python3.6/dist-packages (from geatpy) (1.4.1)\n",
            "Requirement already satisfied: cycler>=0.10 in /usr/local/lib/python3.6/dist-packages (from matplotlib>=3.0.0->geatpy) (0.10.0)\n",
            "Requirement already satisfied: pyparsing!=2.0.4,!=2.1.2,!=2.1.6,>=2.0.1 in /usr/local/lib/python3.6/dist-packages (from matplotlib>=3.0.0->geatpy) (2.4.7)\n",
            "Requirement already satisfied: python-dateutil>=2.1 in /usr/local/lib/python3.6/dist-packages (from matplotlib>=3.0.0->geatpy) (2.8.1)\n",
            "Requirement already satisfied: kiwisolver>=1.0.1 in /usr/local/lib/python3.6/dist-packages (from matplotlib>=3.0.0->geatpy) (1.3.1)\n",
            "Requirement already satisfied: six in /usr/local/lib/python3.6/dist-packages (from cycler>=0.10->matplotlib>=3.0.0->geatpy) (1.15.0)\n",
            "Requirement already satisfied: pyswarms in /usr/local/lib/python3.6/dist-packages (1.3.0)\n",
            "Requirement already satisfied: numpy in /usr/local/lib/python3.6/dist-packages (from pyswarms) (1.19.5)\n",
            "Requirement already satisfied: matplotlib>=1.3.1 in /usr/local/lib/python3.6/dist-packages (from pyswarms) (3.2.2)\n",
            "Requirement already satisfied: scipy in /usr/local/lib/python3.6/dist-packages (from pyswarms) (1.4.1)\n",
            "Requirement already satisfied: tqdm in /usr/local/lib/python3.6/dist-packages (from pyswarms) (4.41.1)\n",
            "Requirement already satisfied: attrs in /usr/local/lib/python3.6/dist-packages (from pyswarms) (20.3.0)\n",
            "Requirement already satisfied: future in /usr/local/lib/python3.6/dist-packages (from pyswarms) (0.16.0)\n",
            "Requirement already satisfied: pyyaml in /usr/local/lib/python3.6/dist-packages (from pyswarms) (3.13)\n",
            "Requirement already satisfied: python-dateutil>=2.1 in /usr/local/lib/python3.6/dist-packages (from matplotlib>=1.3.1->pyswarms) (2.8.1)\n",
            "Requirement already satisfied: kiwisolver>=1.0.1 in /usr/local/lib/python3.6/dist-packages (from matplotlib>=1.3.1->pyswarms) (1.3.1)\n",
            "Requirement already satisfied: pyparsing!=2.0.4,!=2.1.2,!=2.1.6,>=2.0.1 in /usr/local/lib/python3.6/dist-packages (from matplotlib>=1.3.1->pyswarms) (2.4.7)\n",
            "Requirement already satisfied: cycler>=0.10 in /usr/local/lib/python3.6/dist-packages (from matplotlib>=1.3.1->pyswarms) (0.10.0)\n",
            "Requirement already satisfied: six>=1.5 in /usr/local/lib/python3.6/dist-packages (from python-dateutil>=2.1->matplotlib>=1.3.1->pyswarms) (1.15.0)\n"
          ],
          "name": "stdout"
        }
      ]
    },
    {
      "cell_type": "code",
      "metadata": {
        "colab": {
          "base_uri": "https://localhost:8080/",
          "height": 312
        },
        "id": "8kMm7dnJFVQP",
        "outputId": "bfd88f54-bf34-482d-b67a-b9af6b394e76"
      },
      "source": [
        "def demo_func(x):\n",
        "    #x1, x2, x3 = x\n",
        "    #return x1 ** 2 + (x2 - 0.05) ** 2 + x3 ** 2\n",
        "    x1, x2 = x\n",
        "    return 1 / x1 ** 2 + x1 ** 2 + 1 / x2 ** 2 + x2 ** 2\n",
        "\n",
        "# 导入粒子群算法模块\n",
        "from sko.PSO import PSO\n",
        "\n",
        "pso = PSO(func=demo_func, dim=2)\n",
        "fitness = pso.run()\n",
        "print('best_x is ',pso.gbest_x)\n",
        "print('best_y is ',pso.gbest_y)\n",
        "\n",
        "plt.plot(pso.gbest_y_hist)\n",
        "plt.show()"
      ],
      "execution_count": 26,
      "outputs": [
        {
          "output_type": "stream",
          "text": [
            "best_x is  [1.00091489 0.99931492]\n",
            "best_y is  [4.00000522]\n"
          ],
          "name": "stdout"
        },
        {
          "output_type": "display_data",
          "data": {
            "image/png": "[encoded data removed]",
            "text/plain": [
              "<Figure size 432x288 with 1 Axes>"
            ]
          },
          "metadata": {
            "tags": [],
            "needs_background": "light"
          }
        }
      ]
    },
    {
      "cell_type": "code",
      "metadata": {
        "colab": {
          "base_uri": "https://localhost:8080/",
          "height": 301
        },
        "id": "ae64Bw9SMvpv",
        "outputId": "e2d3cdc8-5ef9-470c-eb22-be5b9cd9b9bf"
      },
      "source": [
        "# 遗传算法\r\n",
        "import numpy as np\r\n",
        "\r\n",
        "def schaffer(p):\r\n",
        "    '''\r\n",
        "    This function has plenty of local minimum, with strong shocks\r\n",
        "    global minimum at (0,0) with value 0\r\n",
        "    '''\r\n",
        "    x1, x2 = p\r\n",
        "    x = np.square(x1) + np.square(x2)\r\n",
        "    return 0.5 + (np.square(np.sin(x)) - 0.5) / np.square(1 + 0.001 * x)\r\n",
        "from sko.GA import GA\r\n",
        "\r\n",
        "ga = GA(func=demo_func, n_dim=2, size_pop=50, max_iter=100, lb=[0, 0], ub=[5, 5], precision=1e-7)\r\n",
        "best_x, best_y = ga.run()\r\n",
        "print('best_x:', best_x, '\\n', 'best_y:', best_y)\r\n",
        "\r\n",
        "import pandas as pd\r\n",
        "import matplotlib.pyplot as plt\r\n",
        "\r\n",
        "Y_history = pd.DataFrame(ga.all_history_Y)\r\n",
        "fig, ax = plt.subplots(2, 1)\r\n",
        "ax[0].plot(Y_history.index, Y_history.values, '.', color='red')\r\n",
        "Y_history.min(axis=1).cummin().plot(kind='line')\r\n",
        "plt.show()"
      ],
      "execution_count": 27,
      "outputs": [
        {
          "output_type": "stream",
          "text": [
            "best_x: [1.00052388 1.00003296] \n",
            " best_y: [4.0000011]\n"
          ],
          "name": "stdout"
        },
        {
          "output_type": "display_data",
          "data": {
            "image/png": "[encoded data removed]",
            "text/plain": [
              "<Figure size 432x288 with 2 Axes>"
            ]
          },
          "metadata": {
            "tags": [],
            "needs_background": "light"
          }
        }
      ]
    },
    {
      "cell_type": "code",
      "metadata": {
        "colab": {
          "base_uri": "https://localhost:8080/"
        },
        "id": "fC68nveQ2fKp",
        "outputId": "90a861ae-31a2-4db3-94dc-a4dfe6eec4f9"
      },
      "source": [
        "# 在每个节点到各个充电站距离中选取最近的距离，确定各个服务节点归属充电站\n",
        "# <----------------------------------------------------------------------!!!! 有点问题，虽然开始随机产生若干站点，但是为什么总是有至少一个站点没有服务到交通节点呢？？。。。。好像也不是\n",
        "# -------------------------------------------------------------------------  需要注意debug！！ \n",
        "A=[0]*45 # 各交通节点离充电站最近距离\n",
        "Cell=[0]*45 # 各交通节点最近的充电站 \n",
        " \n",
        "for i in range(45):\n",
        "    A[i]=DMIN[0][i]\n",
        "    for j in range(N):\n",
        "        if A[i] < DMIN[j][i]:\n",
        "          A[i] = DMIN[j][i]\n",
        "          Cell[i] = j\n",
        "#print('各交通节点离充电站最近距离：',A,'\\n')\n",
        "print('各交通节点最近的充电站：',Cell,'\\n')\n",
        " \n",
        "Temp1=np.array(Cell) # 暂时变量，转换为numpy数组方便查找元素下标\n",
        "c=[0]*N # 各充电站的交通节点服务范围\n",
        " \n",
        "for j in range(N):\n",
        "  C_1 = np.where(Temp1 == j) # 查找各节点对应最近的充电站（元素位置即交通节点）\n",
        "  c2=list(C_1)\n",
        "  c2=c2[0]   # 转换变量类型 tuple -> array -> list\n",
        "  c[j]=list(c2)\n",
        "print('各充电站的交通节点服务范围c：','\\n',c,'\\n') # 每个充电站的服务交通节点"
      ],
      "execution_count": 28,
      "outputs": [
        {
          "output_type": "stream",
          "text": [
            "各交通节点最近的充电站： [0, 0, 0, 0, 0, 0, 0, 0, 0, 0, 0, 0, 0, 0, 0, 1, 0, 0, 0, 0, 0, 1, 1, 0, 0, 0, 0, 1, 1, 1, 0, 0, 0, 0, 1, 0, 0, 0, 0, 0, 0, 0, 0, 0, 0] \n",
            "\n",
            "各充电站的交通节点服务范围c： \n",
            " [[0, 1, 2, 3, 4, 5, 6, 7, 8, 9, 10, 11, 12, 13, 14, 16, 17, 18, 19, 20, 23, 24, 25, 26, 30, 31, 32, 33, 35, 36, 37, 38, 39, 40, 41, 42, 43, 44], [15, 21, 22, 27, 28, 29, 34], [], []] \n",
            "\n"
          ],
          "name": "stdout"
        }
      ]
    },
    {
      "cell_type": "code",
      "metadata": {
        "colab": {
          "base_uri": "https://localhost:8080/"
        },
        "id": "oqD6X4rNrnaM",
        "outputId": "08e41791-257f-4c37-df5e-9684a03f156a"
      },
      "source": [
        "# 充电站定容\n",
        "# 根据充电站的服务范围、车流量数据，确定各充电站的充电桩数量\n",
        "q=[         # 45交通节点的车流量数据\n",
        "   2990,\n",
        "   2626,\n",
        "   3190,\n",
        "   2989,\n",
        "   2940,\n",
        "   6608,\n",
        "   6368,\n",
        "   6200,\n",
        "   2658,\n",
        "   6808,\n",
        "   6420,\n",
        "   4816,\n",
        "   5530,\n",
        "   4654,\n",
        "   2170,\n",
        "   3110,\n",
        "   8068,\n",
        "   4918,\n",
        "   4484,\n",
        "   4080,\n",
        "   2320,\n",
        "   2198,\n",
        "   3628,\n",
        "   7424,\n",
        "   6024,\n",
        "   3870,\n",
        "   2312,\n",
        "   422,\n",
        "   1086,\n",
        "   3484,\n",
        "   4118,\n",
        "   3264,\n",
        "   4110,\n",
        "   2370,\n",
        "   654,\n",
        "   3132,\n",
        "   5052,\n",
        "   5420,\n",
        "   4802,\n",
        "   2658,\n",
        "   1400,\n",
        "   1476,\n",
        "   2022,\n",
        "   1432,\n",
        "   986 \n",
        "]\n",
        "W = [0]*N  # 各个充电站的典型日充电需求量\n",
        "alpha = 0.1 # 电动汽车占比\n",
        "beta = 0.1 # 有充电需求的电动汽车比例\n",
        "Wev = 50 # 电动汽车的平均充电容量(kwh)\n",
        "qj = [0] * N # 各个服务区内的车流量\n",
        "lenc = [0] * N #各服务区交通节点数量\n",
        "# c  各充电站的服务交通节点范围\n",
        " \n",
        "for j in range(N):\n",
        "  lenc[j]=len(c[j]) # 将各个充电站对应服务区内的交通节点对应的车流量累加\n",
        "  qji = [0]*lenc[j]\n",
        "  for i in range(lenc[j]):\n",
        "    cj = [0]*lenc[j]\n",
        "    cj[i] = (c[j][i])\n",
        "    qji[i] = q[cj[i]]\n",
        "  #print(qji,'\\n')  \n",
        "  qj[j] = sum(qji) \n",
        "  W[j] = qj[j] * alpha * beta * Wev \n",
        "  W[j] = round(W[j],2) # 取两位小数，减小浮点数加减和二进制存储带来的多位小数影响\n",
        "#print(lenc)\n",
        "print('各充电站典型日充电需求量 W[i]：',W,'\\n')\n",
        "print('各充电站服务交通节点数量:',lenc,'\\n')\n",
        "print('各服务区车流量总额：',qj,'\\n')\n",
        " \n",
        "#---------------------------------------------------------------------\n",
        "u = 0.2  # 充电站的充电容量裕度\n",
        "P = 96   #充电桩充电功率(kw)\n",
        "Tt = 16  # 日充电有效时间(h)\n",
        "kt = 1   # 充电同时率\n",
        "keff = 0.9 # 充电效率\n",
        "m = [0]*N # 各个充电站的充电桩数量配置\n",
        "# 充电桩数量限制！！\n",
        "# m_min = 10\n",
        "# m_max = 30 \n",
        " \n",
        "for j in range(N):\n",
        "  m[j] = ( W[j]*(1+u) )/ ( P * Tt * kt * keff )\n",
        "  m[j] = math.ceil(m[j]) # 对充电桩数量向上取整\n",
        " \n",
        "print('各充电站的充电桩数量配置 m[i]：',m,'\\n')"
      ],
      "execution_count": 29,
      "outputs": [
        {
          "output_type": "stream",
          "text": [
            "各充电站典型日充电需求量 W[i]： [76354.5, 7291.0, 0.0, 0.0] \n",
            "\n",
            "各充电站服务交通节点数量: [38, 7, 0, 0] \n",
            "\n",
            "各服务区车流量总额： [152709, 14582, 0, 0] \n",
            "\n",
            "各充电站的充电桩数量配置 m[i]： [67, 7, 0, 0] \n",
            "\n"
          ],
          "name": "stdout"
        }
      ]
    },
    {
      "cell_type": "code",
      "metadata": {
        "colab": {
          "base_uri": "https://localhost:8080/",
          "height": 269
        },
        "id": "BbJoPsHwRKbT",
        "outputId": "08e7fc12-c4f1-477a-a98d-b0aef2a14b13"
      },
      "source": [
        "# IEEE 14节点 配电网节点坐标及负荷\r\n",
        "# 配电网节点x坐标\r\n",
        "bx = [\r\n",
        "    1.2,\r\n",
        "    2.5,\r\n",
        "    6.2,\r\n",
        "    6.2,\r\n",
        "    2.5,\r\n",
        "    1.2,\r\n",
        "    5.3,\r\n",
        "    4.0,\r\n",
        "    5.3,\r\n",
        "    4.0,\r\n",
        "    2.5,\r\n",
        "    0.5,\r\n",
        "    1.5,\r\n",
        "    7.5,\r\n",
        "]\r\n",
        "# 配电网节点y坐标\r\n",
        "by = [\r\n",
        "    5.0,\r\n",
        "    6.0,\r\n",
        "    6.0,\r\n",
        "    4.5,\r\n",
        "    4.5,\r\n",
        "    2.5,\r\n",
        "    3.5,\r\n",
        "    3.5,\r\n",
        "    2.5,\r\n",
        "    2.5,\r\n",
        "    2.5,\r\n",
        "    2.0,\r\n",
        "    1.5,\r\n",
        "    1.5,\r\n",
        "]\r\n",
        "bus = [0]*14\r\n",
        "for k in range(14):\r\n",
        "  bus[k] = [bx[k],by[k]]\r\n",
        "\r\n",
        "# 配电网节点负荷\r\n",
        "Pg = [\r\n",
        "    0,\r\n",
        "    21.7,\r\n",
        "    94.2,\r\n",
        "    47.8,\r\n",
        "    7.6,\r\n",
        "    11.2,\r\n",
        "    0,\r\n",
        "    0,\r\n",
        "    29.5,\r\n",
        "    9.0,\r\n",
        "    3.5,\r\n",
        "    6.1,\r\n",
        "    13.5,\r\n",
        "    14.9,\r\n",
        "]\r\n",
        "\r\n",
        "#print(\"bx:\",bx,'\\n',\"by:\",by,'\\n','bus:',bus,'\\n',\"Pg:\",Pg,'\\n')\r\n",
        "plt.plot(bx,by,'b*') # 配电网节点\r\n",
        "plt.plot(xx,yy,'r.') # 交通节点\r\n",
        "plt.plot(nx,ny,'go') # 充电站\r\n",
        "plt.xlim(0,8)\r\n",
        "plt.ylim(0,7)\r\n",
        "plt.grid(False)"
      ],
      "execution_count": 30,
      "outputs": [
        {
          "output_type": "display_data",
          "data": {
            "image/png": "[encoded data removed]",
            "text/plain": [
              "<Figure size 432x288 with 1 Axes>"
            ]
          },
          "metadata": {
            "tags": [],
            "needs_background": "light"
          }
        }
      ]
    },
    {
      "cell_type": "code",
      "metadata": {
        "colab": {
          "base_uri": "https://localhost:8080/",
          "height": 341
        },
        "id": "R9DbyibFW6cp",
        "outputId": "031fcffa-271a-4ea2-fdad-a99465167bfa"
      },
      "source": [
        "# 充电站接入最近的配电网节点\r\n",
        "# 计算充电站最近的交通节点\r\n",
        "\r\n",
        "dbmin=[0]*N # 充电站最近的配电节点的欧氏距离\r\n",
        "nb=[0]*N  # 充电站最近的配电节点下标\r\n",
        "\r\n",
        "for j in range(N):\r\n",
        "  dbmin[j] = math.sqrt((nx[j]-1.2)**2 + (ny[j]-5.0)**2)\r\n",
        "  for i in range(14): # 递归计算,14个点中离充电站最近的点\r\n",
        "    db = math.sqrt((bx[i]-nx[j])**2 + (by[i]-ny[j])**2)\r\n",
        "    if db < dbmin[j]:  # 充电站离配电网节点的最短距离 \r\n",
        "      dbmin[j] = db\r\n",
        "      bxmin = bx[i]  # 定位最近的配电节点\r\n",
        "      bymin = by[i]  \r\n",
        "      nb[j]= bus.index([bxmin,bymin])\r\n",
        "  dbmin[j]=round(dbmin[j],2)\r\n",
        "print('最近配网节点下标',nb,'\\n')\r\n",
        "print('充电站离配网节点最短距离',dbmin,'\\n')\r\n",
        "\r\n",
        "plt.plot(nx,ny,'go')\r\n",
        "plt.plot(bx,by,'b*')\r\n",
        "plt.plot(xx,yy,'ro')\r\n",
        "plotconnect()\r\n",
        "\r\n",
        "for j in range(N):\r\n",
        "  plt.plot([nx[j],bx[nb[j]]],[ny[j],by[nb[j]]],'m--',linewidth=1) # 连接充电站和最近的配网节点\r\n",
        "plt.xlim(0,8)\r\n",
        "plt.ylim(0,7)\r\n",
        "plt.grid(False)\r\n",
        "\r\n",
        "#plt.rcParams['figure.figsize'] = (8.0, 7.0) # 设置figure_size尺寸\r\n"
      ],
      "execution_count": 31,
      "outputs": [
        {
          "output_type": "stream",
          "text": [
            "最近配网节点下标 [0, 1, 1, 1] \n",
            "\n",
            "充电站离配网节点最短距离 [1.58, 1.85, 1.25, 0.63] \n",
            "\n"
          ],
          "name": "stdout"
        },
        {
          "output_type": "display_data",
          "data": {
            "image/png": "[encoded data removed]",
            "text/plain": [
              "<Figure size 432x288 with 1 Axes>"
            ]
          },
          "metadata": {
            "tags": [],
            "needs_background": "light"
          }
        }
      ]
    },
    {
      "cell_type": "code",
      "metadata": {
        "colab": {
          "base_uri": "https://localhost:8080/"
        },
        "id": "s5CDHIMO6S4Q",
        "outputId": "558fa951-add5-412e-cae9-6ba2a7c15729"
      },
      "source": [
        "print(xx[27],yy[27])"
      ],
      "execution_count": 32,
      "outputs": [
        {
          "output_type": "stream",
          "text": [
            "0 3.56\n"
          ],
          "name": "stdout"
        }
      ]
    },
    {
      "cell_type": "code",
      "metadata": {
        "id": "gdSwHNx_JSP0"
      },
      "source": [
        "# 约束条件：<---------------------------------------------    !!!!!\r\n",
        "# 1.充电站数量约束\r\n",
        "# 2.充电桩数量m的上下限\r\n",
        "\r\n",
        "# 3.潮流约束，各节点电压上下限\r\n",
        "  # 潮流计算部分 与前面的网损计算 一同计算。。。"
      ],
      "execution_count": 33,
      "outputs": []
    },
    {
      "cell_type": "code",
      "metadata": {
        "id": "QIf1GxLqLbg2"
      },
      "source": [
        "# 优化算法 <--------------------------------------------    !!!!!\r\n",
        "# 粒子群算法？/ 遗传算法？/ 旗鱼搜索算法？\r\n",
        "# 更新站点使之满足要求"
      ],
      "execution_count": 34,
      "outputs": []
    },
    {
      "cell_type": "code",
      "metadata": {
        "id": "s59z6WdbBuGh"
      },
      "source": [
        "# 充电站规划成本计算！！\r\n",
        "\r\n",
        "# min C = Σ（C1+C2+C3）+C4\r\n",
        " # C1：充电站的年建设成本\r\n",
        "  # 年建设成本 = （充电桩成本 + 站用变压器成本 + 配电网线路成本 + 基建费用 ）*（贴现率与运行年限构成的系数）\r\n",
        " # C2：充电站的运行成本\r\n",
        "  # 运维成本研究较为复杂\r\n",
        "  # 考虑适当简化：C2 = 年建设成本C2*比例系数\r\n",
        " # C3：用户年出行成本\r\n",
        "  # 出行成本= 充电电价成本 + 时间成本\r\n",
        " # C4：接入充电站后的年网损成本\r\n",
        " # Σ网损增量*电网公司各时段网购电价"
      ],
      "execution_count": 35,
      "outputs": []
    },
    {
      "cell_type": "code",
      "metadata": {
        "colab": {
          "base_uri": "https://localhost:8080/"
        },
        "id": "HXCtqcy4tNSw",
        "outputId": "6a7b87a6-9229-4fcb-dcd0-178a6f7ff38c"
      },
      "source": [
        "#-------------------------------------------------------------------------------\n",
        "# C1 年建设成本计算\n",
        " \n",
        "r0 = 0.1  # 贴现率\n",
        "a = 20  # 充电站的运行年限\n",
        "F = 1 # 充电桩单价 <-------------------------- !!!!\n",
        "E =  1 # 变压器单价 <------------------------ !!!!\n",
        "c1 =  1 # 连接配电网线路 单位长度成本 <----- !!!!\n",
        "# m    # 各充电站的充电桩数量由服务范围确定\n",
        "e = [0]*N # 各充电站的变压器数量 <------------- !!!!\n",
        "\n",
        "l = dbmin # 各充电站到配电网节点的线路长度\n",
        "w = [0]*N # 各充电站的基建费用\n",
        "C1 = [0]*N # 各充电站的年建设成本 \n",
        " \n",
        "k = (r0*(1+r0)**a)/((1+r0)**a-1) # 贴现率与运行年限构成的系数\n",
        "for i in range(N):\n",
        "  C1[i] = (m[i]*F + e[i]*E + l[i]*c1 + w[i])* k \n",
        "  C1[i] = round(C1[i],4)\n",
        "print('各充电站的年建设成本C1:','\\n',C1,'\\n')\n",
        " \n"
      ],
      "execution_count": 36,
      "outputs": [
        {
          "output_type": "stream",
          "text": [
            "各充电站的年建设成本C1: \n",
            " [8.0554, 1.0395, 0.1468, 0.074] \n",
            "\n"
          ],
          "name": "stdout"
        }
      ]
    },
    {
      "cell_type": "code",
      "metadata": {
        "colab": {
          "base_uri": "https://localhost:8080/"
        },
        "id": "g2yyp-RhB0s_",
        "outputId": "1418f31b-b7e3-463b-b089-4ec65e3d4d2a"
      },
      "source": [
        "#------------------------------------------------------------------------------- \r\n",
        "# C2 运行成本 (简化后)\r\n",
        " \r\n",
        "Eta = 0.01  # 考虑简化，折算比例系数η\r\n",
        "C2=[0]*N\r\n",
        "for i in range(N):\r\n",
        "  C2[i] = C1[i]*Eta\r\n",
        "  C2[i] = round(C2[i],6)\r\n",
        "print('各充电站的运行成本C2：','\\n',C2,'\\n')\r\n"
      ],
      "execution_count": 37,
      "outputs": [
        {
          "output_type": "stream",
          "text": [
            "各充电站的运行成本C2： \n",
            " [0.080554, 0.010395, 0.001468, 0.00074] \n",
            "\n"
          ],
          "name": "stdout"
        }
      ]
    },
    {
      "cell_type": "code",
      "metadata": {
        "colab": {
          "base_uri": "https://localhost:8080/"
        },
        "id": "wkJKMom7uWWM",
        "outputId": "5f60213d-0c58-4309-b9a6-afd87133b1ae"
      },
      "source": [
        "#-------------------------------------------------------------------------------\r\n",
        "# C3 用户出行成本\r\n",
        "# 有充电需求的电动汽车用户，在前往充电站充电的路途中消耗了电动汽车的电能且浪费了自己的时间\r\n",
        " # 即：用户出行成本 = 充电成本 + 时间成本\r\n",
        "\r\n",
        "C3 = [0]*N\r\n",
        "gk = 6   # 电动汽车每单位电量的行驶距离(km/kWh)\r\n",
        "pev = 0.8  # 电动汽车的充电电价 (元/kWh)\r\n",
        "ct = 18   # 电动汽车用户的时间成本 (元/h)\r\n",
        "Vev = 30  # 电动汽车的平均车速 （km/h）\r\n",
        "\r\n",
        "nev =[0]*N   # 充电站i的服务内有充电需求的电动汽车数量(辆)\r\n",
        "for i in range(N):\r\n",
        "  nev[i] = qj[i] * alpha * beta\r\n",
        "  nev[i] = math.ceil(nev[i]) #  对电动汽车数量向上取整 \r\n",
        "\r\n",
        "print('各服务区内有充电需求的电动汽车数量nev：',nev,'\\n')\r\n",
        "\r\n",
        "nevi = [[]]*N\r\n",
        "dz = [[]]*N # 第z辆电动汽车到充电站i的行驶距离(km)\r\n",
        "for j in range(N):\r\n",
        "  lenc[j]=len(c[j]) # 将各个充电站对应服务区内的交通节点对应的车流量累加\r\n",
        "  nevj = [0]*lenc[j]\r\n",
        "  dzj = [0]*lenc[j]\r\n",
        "  for i in range(lenc[j]):\r\n",
        "    cj = [0]*lenc[j]\r\n",
        "    cj[i] = (c[j][i])\r\n",
        "    dzj[i] = A[cj[i]]\r\n",
        "    nevj[i] = math.ceil(q[cj[i]] * alpha * beta)\r\n",
        "  #print('充电站服务区',j,'的y有充电需求的电动车数量',nevj)\r\n",
        "  nevi[j]=nevj \r\n",
        "  dz[j] = dzj     \r\n",
        "\r\n",
        "#print('\\n','各服务区内不同行驶距离的充电需求的电动汽车数量：',nevi,'\\n')\r\n",
        "#print('各服务区包含的交通节点下标：',c,'\\n')\r\n",
        "#print('交通节点离充电站的最短距离',dz,'\\n')\r\n",
        "\r\n",
        "Dz = [[]]*N\r\n",
        "DZ = [0]*N\r\n",
        "for j in range(N):\r\n",
        "  Dzj = [0]*lenc[j]\r\n",
        "  for i in range(lenc[j]):\r\n",
        "    Dzj[i] = dz[j][i] * nevi[j][i]    # 各交通节点需要充电的车辆所行驶距离\r\n",
        "  Dz[j] = Dzj\r\n",
        "  DZ[j] = sum(Dz[j])\r\n",
        "  C3[j] = ( ((DZ[j]/gk) * pev)+((DZ[j]/Vev) * ct) ) * 356\r\n",
        "  C3[j] = math.ceil(C3[j])\r\n",
        "\r\n",
        "#print(DZ,'\\n')\r\n",
        "print('各充电站的用户出行成本C3:','\\n',C3,'\\n')\r\n",
        "print(sum(C3))"
      ],
      "execution_count": 38,
      "outputs": [
        {
          "output_type": "stream",
          "text": [
            "各服务区内有充电需求的电动汽车数量nev： [1528, 146, 0, 0] \n",
            "\n",
            "各充电站的用户出行成本C3: \n",
            " [2608436, 201201, 0, 0] \n",
            "\n",
            "2809637\n"
          ],
          "name": "stdout"
        }
      ]
    },
    {
      "cell_type": "code",
      "metadata": {
        "colab": {
          "base_uri": "https://localhost:8080/"
        },
        "id": "jH9c5dedzSbq",
        "outputId": "fb308d88-1576-4dc6-8a07-e95882f05efc"
      },
      "source": [
        "# -----------------------------------------------------------------------------\r\n",
        "# 充电站接入配电网后增加的年网损成本\r\n",
        "  #!!!潮流计算，网损计算\r\n",
        "p = 1       # 电网公司含税网购平均电价 <---------------------  ???\r\n",
        "Ploss1 = 0  # 未接入充电站前配电网的有功网损功率 <---------- ????\r\n",
        "Ploss2 = 0 # 接入充电站后配电网的有功网损功率 <------------ ????\r\n",
        "C4 = p * ( Ploss2 - Ploss1 ) # 增加的年网损成本\r\n",
        "\r\n",
        "print('年网损成本C4：','\\n',C4,'\\n')"
      ],
      "execution_count": 39,
      "outputs": [
        {
          "output_type": "stream",
          "text": [
            "年网损成本C4： \n",
            " 0 \n",
            "\n"
          ],
          "name": "stdout"
        }
      ]
    },
    {
      "cell_type": "code",
      "metadata": {
        "colab": {
          "base_uri": "https://localhost:8080/"
        },
        "id": "j-ovsTOEBMOM",
        "outputId": "055fe01d-dea1-4967-9804-78febda747ba"
      },
      "source": [
        "# 目标函数： 总成本最小\r\n",
        "# min C = Σ（C1+C2+C3）+C4\r\n",
        "print(C1,'\\n',C2,'\\n',C3,'\\n')\r\n",
        "\r\n",
        "C_123 = 0\r\n",
        "for i in range(N):\r\n",
        "  C_123 = C_123+(C1[i]+C2[i]+C3[i])\r\n",
        "\r\n",
        "C = C_123+C4\r\n",
        "print('充电站总规划成本C：','\\n',C,'\\n')\r\n"
      ],
      "execution_count": 40,
      "outputs": [
        {
          "output_type": "stream",
          "text": [
            "[8.0554, 1.0395, 0.1468, 0.074] \n",
            " [0.080554, 0.010395, 0.001468, 0.00074] \n",
            " [2608436, 201201, 0, 0] \n",
            "\n",
            "充电站总规划成本C： \n",
            " 2809646.4088570005 \n",
            "\n"
          ],
          "name": "stdout"
        }
      ]
    }
  ]
}