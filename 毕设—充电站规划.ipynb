{
  "nbformat": 4,
  "nbformat_minor": 0,
  "metadata": {
    "colab": {
      "name": "毕设_充电站规划.ipynb",
      "provenance": [],
      "authorship_tag": "ABX9TyMxQwumKh51f3ntt+nPlvcr",
      "include_colab_link": true
    },
    "kernelspec": {
      "display_name": "Python 3",
      "name": "python3"
    }
  },
  "cells": [
    {
      "cell_type": "markdown",
      "metadata": {
        "id": "view-in-github",
        "colab_type": "text"
      },
      "source": [
        "<a href=\"https://colab.research.google.com/github/sjw509/Demo/blob/master/%E6%AF%95%E8%AE%BE%E2%80%94%E5%85%85%E7%94%B5%E7%AB%99%E8%A7%84%E5%88%92.ipynb\" target=\"_parent\"><img src=\"https://colab.research.google.com/assets/colab-badge.svg\" alt=\"Open In Colab\"/></a>"
      ]
    },
    {
      "cell_type": "code",
      "metadata": {
        "id": "m_f7X0ODaUZ3"
      },
      "source": [
        "import sys\n",
        "import random\n",
        "import math\n",
        "import matplotlib.pyplot as plt\n",
        "#========================================================================================\n",
        " \n",
        "import numpy as np\n",
        " \n",
        "sys.setrecursionlimit(100000000)  # 手工设置递归调用深度，防止无限递归，引起 Python崩溃"
      ],
      "execution_count": 55,
      "outputs": []
    },
    {
      "cell_type": "code",
      "metadata": {
        "id": "0uh0ZXQZaM5B"
      },
      "source": [
        "#========================================================================================\n",
        "# 求Floyd 最短距离部分\n",
        "# 交通路径参数\n",
        "# Data [u, v, cost]\n",
        "# 注意Python数组索引从0开始，记录节点 0 - 44 之间的连通情况 \n",
        "datas= [\n",
        "    [0, 1, 0.93],\n",
        "    [0, 4, 0.74],\n",
        "    [0, 5, 0.51],\n",
        "    [1, 2, 0.93],\n",
        "    [1, 6, 0.42],\n",
        "    [2, 3, 0.93],\n",
        "    [2, 7, 0.42],\n",
        "    [3, 8, 0.42],\n",
        "    [4, 9, 0.89],\n",
        "    [4, 15, 2.54],\n",
        "    [5, 6, 0.64],\n",
        "    [5, 9, 1.03],\n",
        "    [5, 10, 1.28],\n",
        "    [6, 7, 0.93],\n",
        "    [6, 12, 0.84],\n",
        "    [7, 8, 0.93],\n",
        "    [7, 13, 0.84],\n",
        "    [8, 14, 0.84],\n",
        "    [9, 10, 0.74],\n",
        "    [9, 16, 0.89],\n",
        "    [10, 11, 0.64],\n",
        "    [10, 17, 0.40],\n",
        "    [11, 12, 0.44],\n",
        "    [11, 18, 0.40],\n",
        "    [12, 13, 0.93],\n",
        "    [13, 14, 0.93],\n",
        "    [13, 19, 0.84],\n",
        "    [14, 20, 0.84],\n",
        "    [15, 16, 1.90],\n",
        "    [15, 21, 0.34],\n",
        "    [16, 17, 0.90],\n",
        "    [16, 22, 1.51],\n",
        "    [16, 23, 0.89],\n",
        "    [17, 18, 0.64],\n",
        "    [17, 23, 1.03],\n",
        "    [18, 19, 0.93],\n",
        "    [18, 24, 0.84],\n",
        "    [19, 20, 0.93],\n",
        "    [19, 25, 0.84],\n",
        "    [20, 26, 0.84],\n",
        "    [21, 22, 1.13],\n",
        "    [22, 28, 1.29],\n",
        "    [22, 29, 1.25],\n",
        "    [23, 24, 1.24],\n",
        "    [23, 29, 1.04],\n",
        "    [23, 30, 1.03],\n",
        "    [24, 25, 0.93],\n",
        "    [24, 30, 1.06],\n",
        "    [24, 31, 0.84],\n",
        "    [25, 26, 0.93],\n",
        "    [25, 32, 0.84],\n",
        "    [26, 33, 0.84],\n",
        "    [27, 28, 1.25],\n",
        "    [28, 34, 1.28],\n",
        "    [29, 34, 1.28],\n",
        "    [29, 35, 1.08],\n",
        "    [30, 31, 0.64],\n",
        "    [30, 35, 1.07],\n",
        "    [31, 32, 0.93],\n",
        "    [31, 37, 0.88],\n",
        "    [32, 33, 0.93],\n",
        "    [32, 38, 0.88],\n",
        "    [33, 39, 0.88],\n",
        "    [34, 40, 1.25],\n",
        "    [35, 36, 0.60],\n",
        "    [35, 40, 1.25],\n",
        "    [35, 40, 1.04],\n",
        "    [36, 37, 0.64],\n",
        "    [36, 41, 1.05],\n",
        "    [37, 38, 0.93],\n",
        "    [37, 42, 0.84],\n",
        "    [38, 39, 0.93],\n",
        "    [38, 43, 0.84],\n",
        "    [39, 44, 0.84],\n",
        "    [40, 41, 0.93],\n",
        "    [41, 42, 0.93],\n",
        "    [42, 43, 0.93],\n",
        "    [43, 44, 1.07],\n",
        "    [44, 43, 1.07],\n",
        "]\n",
        " \n",
        "# 结点数\n",
        "n = 45\n",
        "# 定义无穷大\n",
        "inf = 9999999999\n",
        " \n",
        "# 构图\n",
        "graph = [[(lambda x: 0 if x[0] == x[1] else inf)([i, j]) for j in range(n)] for i in range(n)]\n",
        "parents = [[i] * n for i in range(n)]  ## 关键地方，i-->j 的父结点初始化都为 i\n",
        "## 用一个二维数组 parents 记录每个结点的父结点。在找最短路的时候，更新父结点。\n",
        "for u, v, c in datas:\n",
        "    graph[u][v] = c  # 若是有向图，边权只赋给graph[u][v]\n",
        "    graph[v][u] = c  # 若是无向图，要加上这条。\n",
        " \n",
        "# 弗洛伊德算法\n",
        "def floyd():\n",
        "    n = len(graph)\n",
        "    for k in range(n):\n",
        "        for i in range(n):\n",
        "            for j in range(n):\n",
        "                if graph[i][k] + graph[k][j] < graph[i][j]:\n",
        "                    graph[i][j] = graph[i][k] + graph[k][j]\n",
        "                    parents[i][j] = parents[k][j]  # 更新父结点\n",
        " \n",
        "# 打印两点间的Floyd距离\n",
        "def Cost():\n",
        "  print(\"Costs:\")  # 打印最短距离\n",
        "  for row in graph:\n",
        "    for e in row:\n",
        "        print(\"inf\" if e == inf else \"%.2f\" % e, end=\"\\t\")\n",
        "    print()\n",
        " \n",
        "floyd()\n",
        "# Cost()\n",
        " \n",
        "# print(graph[0][34],'\\n') \n",
        "# 计算出任意两点之间的最短路径，保存在 graph[i][j] 表示 i 到 j 的最短距离\n",
        "#========================================================================================"
      ],
      "execution_count": 56,
      "outputs": []
    },
    {
      "cell_type": "code",
      "metadata": {
        "colab": {
          "base_uri": "https://localhost:8080/"
        },
        "id": "R5-nz4OulrJZ",
        "outputId": "c1fef288-ea40-4135-c510-9b36198a8cb1"
      },
      "source": [
        "# 45个节点的 x 坐标\n",
        "xx = [\n",
        "    3.71,\n",
        "    4.64,\n",
        "    5.57,\n",
        "    6.5,\n",
        "    3.1,\n",
        "    4,\n",
        "    4.64,\n",
        "    5.57,\n",
        "    6.5,\n",
        "    3.4,\n",
        "    4,\n",
        "    4.64,\n",
        "    4.64,\n",
        "    5.57,\n",
        "    6.5,\n",
        "    1.2,\n",
        "    3.1,\n",
        "    4,\n",
        "    4.64,\n",
        "    5.57,\n",
        "    6.5,\n",
        "    0.92,\n",
        "    1.85,\n",
        "    3.4,\n",
        "    4.64,\n",
        "    5.57,\n",
        "    6.5,\n",
        "    0,\n",
        "    0.92,\n",
        "    2.78,\n",
        "    4,\n",
        "    4.64,\n",
        "    5.57,\n",
        "    6.5,\n",
        "    1.85,\n",
        "    3.4,\n",
        "    4,\n",
        "    4.64,\n",
        "    5.57,\n",
        "    6.5,\n",
        "    2.78,\n",
        "    3.71,\n",
        "    4.64,\n",
        "    5.57,\n",
        "    6.5,\n",
        "]\n",
        " \n",
        "# 45个节点的 y 坐标\n",
        "yy = [\n",
        "    6.5,\n",
        "    6.5,\n",
        "    6.5,\n",
        "    6.5,\n",
        "    6.08,\n",
        "    6.08,\n",
        "    6.08,\n",
        "    6.08,\n",
        "    6.08,\n",
        "    5.24,\n",
        "    4.8,\n",
        "    4.8,\n",
        "    5.24,\n",
        "    5.24,\n",
        "    5.24,\n",
        "    4.4,\n",
        "    4.4,\n",
        "    4.4,\n",
        "    4.4,\n",
        "    4.4,\n",
        "    4.4,\n",
        "    4.2,\n",
        "    3.56,\n",
        "    3.56,\n",
        "    3.56,\n",
        "    3.56,\n",
        "    3.56,\n",
        "    3.56,\n",
        "    2.72,\n",
        "    2.72,\n",
        "    2.72,\n",
        "    2.72,\n",
        "    2.72,\n",
        "    2.72,\n",
        "    1.84,\n",
        "    1.84,\n",
        "    1.84,\n",
        "    1.84,\n",
        "    1.84,\n",
        "    1.84,\n",
        "    1,\n",
        "    1,\n",
        "    1,\n",
        "    1,\n",
        "    1,\n",
        "]\n",
        "# 生成[x,y]坐标点形成的数组，供后面查找节点位置使用\n",
        "# 可以使用循环赋值，也可以使用 list\\zip函数，如\n",
        "#node=list(zip(xx,yy))  # 这里的 node=[(x1,y1),(x2,y2)...]\n",
        "node=[0]*45\n",
        "for i in range(45):\n",
        "  node[i]=[xx[i],yy[i]]# 这里的 node=[[x1,y1],[x2,y2]...]\n",
        "#print(node[1][1])\n",
        " \n",
        "# 随机生成若干点，初始化充电站地址\n",
        "nx=[]\n",
        "ny=[]\n",
        "for i in range(7):\n",
        "  nx.append(random.uniform(0,7))\n",
        "  ny.append(random.uniform(0,7))\n",
        " \n",
        "  nx =[round(a,2) for a in nx] #对随机生成的浮点数取2位小数\n",
        "  ny =[round(b,2) for b in ny]\n",
        "print('充电站坐标：',[nx[0],ny[0]],'\\n')\n",
        " \n",
        "cells=[0]*7 # 7个充电站的坐标\n",
        "for j in range(7):\n",
        "  cells[j]=[nx[j],ny[j]]\n",
        "# print(cells,'\\n')\n",
        " \n",
        "# ----------------------------------------------------------------------------\n",
        "# 计算充电站最近的交通节点\n",
        "dmin = math.hypot(nx[0]-3.71, ny[0]-6.5) \n",
        "for i in range(45): # 递归计算 45个点中离充电站r最近的点\n",
        "  d = math.hypot(xx[i] - nx[0], yy[i] - ny[0])\n",
        "  if d < dmin:    # 考虑 最短的两点欧氏距离\n",
        "  #--------{......}------# 后续筛选校核中 考虑 配电网潮流约束 !!!\n",
        "  #--------{......}------\n",
        "    dmin = d\n",
        "    xmin = xx[i]\n",
        "    ymin = yy[i]\n",
        "dmin = round(dmin,2) # 取两位小数\n",
        " \n",
        " \n",
        "#----------------------------------------------------------------------------\n",
        "# 定位最近的交通节点\n",
        "a=node.index([xmin,ymin])\n",
        "# 交通节点名称像Python数组索引一样由0开始 ！！\n",
        "print('离充电站最近的交通节点（0 - 44）为: ',a,'\\n') \n",
        "print('离充电站最近的交通节点的坐标：',[xmin,ymin],'\\n')\n",
        "# 输出交通节点离充电站的最短距离\n",
        "print('离充电站最近的交通节点的欧氏距离 dmin = ',dmin,'\\n')\n",
        " \n",
        "# 任一交通点到离充电站的\"最短路径距离\"\n",
        "Dmin=[0]*45\n",
        "for i in range(45):\n",
        "  Dmin[i] = graph[i][a]+dmin \n",
        "  Dmin[i] = round (Dmin[i],2)#取两位小数\n",
        "print('任一节点到充电站的最短路径距离Dmin = ',Dmin,'\\n')"
      ],
      "execution_count": 57,
      "outputs": [
        {
          "output_type": "stream",
          "text": [
            "充电站坐标： [5.78, 6.63] \n",
            "\n",
            "离充电站最近的交通节点（0 - 44）为:  2 \n",
            "\n",
            "离充电站最近的交通节点的坐标： [5.57, 6.5] \n",
            "\n",
            "离充电站最近的交通节点的欧氏距离 dmin =  0.25 \n",
            "\n",
            "任一节点到充电站的最短路径距离Dmin =  [2.11, 1.18, 0.25, 1.18, 2.85, 2.24, 1.6, 0.67, 1.6, 3.27, 3.52, 2.88, 2.44, 1.51, 2.44, 5.39, 4.16, 3.92, 3.28, 2.35, 3.28, 5.73, 5.67, 4.95, 4.12, 3.19, 4.12, 8.21, 6.96, 5.99, 5.18, 4.96, 4.03, 4.96, 7.27, 6.25, 6.48, 5.84, 4.91, 5.84, 7.29, 7.53, 6.68, 5.75, 6.68] \n",
            "\n"
          ],
          "name": "stdout"
        }
      ]
    },
    {
      "cell_type": "code",
      "metadata": {
        "id": "DVmb--3zVYiq",
        "colab": {
          "base_uri": "https://localhost:8080/",
          "height": 265
        },
        "outputId": "7aec4b7b-aa41-43ae-c239-8580e52bdb18"
      },
      "source": [
        "# ------------------------------------------------------------------------\n",
        "# 画图 (目前的充电站点是随机生成)\n",
        "plt.plot(xx,yy,'r.') # 交通节点\n",
        "plt.plot(nx,ny,'go') # 充电站\n",
        "plt.plot(xx[a],yy[a],'r+')\n",
        "plt.plot([nx[0],xx[a]],[ny[0],yy[a]],'k--') # 连接充电站和最近的交通节点\n",
        " \n",
        "plt.xlim(0,7.5) #设置的x轴上下限值。下面y轴同理。\n",
        "plt.ylim(0,7.5)\n",
        "plt.grid(True)"
      ],
      "execution_count": 58,
      "outputs": [
        {
          "output_type": "display_data",
          "data": {
            "image/png": "[encoded data removed]",
            "text/plain": [
              "<Figure size 432x288 with 1 Axes>"
            ]
          },
          "metadata": {
            "tags": [],
            "needs_background": "light"
          }
        }
      ]
    },
    {
      "cell_type": "code",
      "metadata": {
        "id": "p9tr6XvSv2DZ",
        "colab": {
          "base_uri": "https://localhost:8080/",
          "height": 319
        },
        "outputId": "318bd547-280f-487e-984a-c600c90b4098"
      },
      "source": [
        "print(node[a])\n",
        "print(cells[0])\n",
        "plt.plot(nx,ny,'ro')\n",
        "plt.grid(True)\n",
        "plt.xlim(0,7.5)\n",
        "plt.ylim(0,7.5)"
      ],
      "execution_count": 59,
      "outputs": [
        {
          "output_type": "stream",
          "text": [
            "[5.57, 6.5]\n",
            "[5.78, 6.63]\n"
          ],
          "name": "stdout"
        },
        {
          "output_type": "execute_result",
          "data": {
            "text/plain": [
              "(0.0, 7.5)"
            ]
          },
          "metadata": {
            "tags": []
          },
          "execution_count": 59
        },
        {
          "output_type": "display_data",
          "data": {
            "image/png": "[encoded data removed]",
            "text/plain": [
              "<Figure size 432x288 with 1 Axes>"
            ]
          },
          "metadata": {
            "tags": [],
            "needs_background": "light"
          }
        }
      ]
    }
  ]
}